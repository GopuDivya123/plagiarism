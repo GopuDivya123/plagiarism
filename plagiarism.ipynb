{
  "nbformat": 4,
  "nbformat_minor": 0,
  "metadata": {
    "colab": {
      "provenance": [],
      "include_colab_link": true
    },
    "kernelspec": {
      "name": "python3",
      "display_name": "Python 3"
    },
    "language_info": {
      "name": "python"
    }
  },
  "cells": [
    {
      "cell_type": "markdown",
      "metadata": {
        "id": "view-in-github",
        "colab_type": "text"
      },
      "source": [
        "<a href=\"https://colab.research.google.com/github/GopuDivya123/plagiarism/blob/main/plagiarism.ipynb\" target=\"_parent\"><img src=\"https://colab.research.google.com/assets/colab-badge.svg\" alt=\"Open In Colab\"/></a>"
      ]
    },
    {
      "cell_type": "code",
      "execution_count": null,
      "metadata": {
        "id": "DcsqxanyOx9q"
      },
      "outputs": [],
      "source": [
        "import os\n",
        "from sklearn.feature_extraction.text import TfidfVectorizer\n",
        "from sklearn.metrics.pairwise import cosine_similarity\n"
      ]
    },
    {
      "cell_type": "code",
      "source": [
        "path = os.getcwd()\n",
        "path\n"
      ],
      "metadata": {
        "colab": {
          "base_uri": "https://localhost:8080/",
          "height": 36
        },
        "id": "BVnFeJlXPEF-",
        "outputId": "9d9cefd5-b6cb-421c-f70d-3942bb95442b"
      },
      "execution_count": null,
      "outputs": [
        {
          "output_type": "execute_result",
          "data": {
            "text/plain": [
              "'/content'"
            ],
            "application/vnd.google.colaboratory.intrinsic+json": {
              "type": "string"
            }
          },
          "metadata": {},
          "execution_count": 2
        }
      ]
    },
    {
      "cell_type": "code",
      "source": [
        "files_path = os.chdir(\"/content/files\")\n",
        "files_path\n"
      ],
      "metadata": {
        "id": "zsnU3TEDPEyc"
      },
      "execution_count": null,
      "outputs": []
    },
    {
      "cell_type": "code",
      "source": [
        "student_files = [doc for doc in os.listdir(files_path) if doc.endswith('.txt')]\n",
        "student_notes = [open(_file, encoding='utf-8').read()\n",
        "                 for _file in student_files]"
      ],
      "metadata": {
        "id": "gWGIg2cjPGea"
      },
      "execution_count": null,
      "outputs": []
    },
    {
      "cell_type": "code",
      "source": [
        "student_files\n"
      ],
      "metadata": {
        "colab": {
          "base_uri": "https://localhost:8080/"
        },
        "id": "iR0TxKIhPOKJ",
        "outputId": "3b1a64ca-d7be-4199-e598-e99657dea29b"
      },
      "execution_count": null,
      "outputs": [
        {
          "output_type": "execute_result",
          "data": {
            "text/plain": [
              "['requirements.txt', 'fatma.txt', 'john.txt', 'juma.txt']"
            ]
          },
          "metadata": {},
          "execution_count": 5
        }
      ]
    },
    {
      "cell_type": "code",
      "source": [
        "student_notes"
      ],
      "metadata": {
        "colab": {
          "base_uri": "https://localhost:8080/"
        },
        "id": "mRmFfWorPQS5",
        "outputId": "76a61bbb-baea-4973-d89a-2b88b75460bb"
      },
      "execution_count": null,
      "outputs": [
        {
          "output_type": "execute_result",
          "data": {
            "text/plain": [
              "['scikit_learn==0.24.2\\n',\n",
              " 'Life is all about doing your best in trying to\\nfind what works out for you and taking most time in\\ntrying to pursue those skills ',\n",
              " 'Life is all about finding money and spending on luxury stuffs\\nCoz this life is kinda short , trust ',\n",
              " 'Life to me is about finding money and use it on things that makes you happy\\ncoz this life is kinda short ']"
            ]
          },
          "metadata": {},
          "execution_count": 6
        }
      ]
    },
    {
      "cell_type": "code",
      "source": [
        "def vectorize(Text):\n",
        "    return TfidfVectorizer().fit_transform(Text).toarray()\n",
        "def similarity(doc1, doc2):\n",
        "    return cosine_similarity([doc1, doc2])"
      ],
      "metadata": {
        "id": "D4XzZeNMPQti"
      },
      "execution_count": null,
      "outputs": []
    },
    {
      "cell_type": "code",
      "source": [
        "vectors = vectorize(student_notes)\n",
        "s_vectors = list(zip(student_files, vectors))\n",
        "plagiarism_results = set()\n",
        "print(vectors)"
      ],
      "metadata": {
        "colab": {
          "base_uri": "https://localhost:8080/"
        },
        "id": "rS1TdvyRPQ0E",
        "outputId": "04e64ec2-a3c4-47d1-f655-cf048c389c08"
      },
      "execution_count": null,
      "outputs": [
        {
          "output_type": "stream",
          "name": "stdout",
          "text": [
            "[[0.70710678 0.         0.         0.         0.         0.\n",
            "  0.         0.         0.         0.         0.         0.\n",
            "  0.         0.         0.         0.         0.         0.\n",
            "  0.         0.         0.         0.         0.         0.\n",
            "  0.70710678 0.         0.         0.         0.         0.\n",
            "  0.         0.         0.         0.         0.         0.\n",
            "  0.         0.         0.         0.         0.         0.\n",
            "  0.        ]\n",
            " [0.         0.12202937 0.15073054 0.12202937 0.19118258 0.\n",
            "  0.19118258 0.19118258 0.         0.19118258 0.         0.38236516\n",
            "  0.12202937 0.         0.         0.12202937 0.         0.\n",
            "  0.         0.         0.19118258 0.         0.19118258 0.19118258\n",
            "  0.         0.         0.19118258 0.         0.         0.19118258\n",
            "  0.         0.         0.         0.19118258 0.19118258 0.30146109\n",
            "  0.         0.38236516 0.         0.19118258 0.19118258 0.15073054\n",
            "  0.19118258]\n",
            " [0.         0.17671088 0.21827309 0.17671088 0.         0.21827309\n",
            "  0.         0.         0.21827309 0.         0.         0.\n",
            "  0.35342175 0.         0.21827309 0.35342175 0.27685174 0.\n",
            "  0.         0.21827309 0.         0.21827309 0.         0.\n",
            "  0.         0.21827309 0.         0.27685174 0.27685174 0.\n",
            "  0.         0.         0.21827309 0.         0.         0.\n",
            "  0.27685174 0.         0.         0.         0.         0.\n",
            "  0.        ]\n",
            " [0.         0.15633945 0.         0.15633945 0.         0.19311033\n",
            "  0.         0.         0.19311033 0.         0.24493596 0.\n",
            "  0.3126789  0.24493596 0.19311033 0.3126789  0.         0.24493596\n",
            "  0.24493596 0.19311033 0.         0.19311033 0.         0.\n",
            "  0.         0.19311033 0.         0.         0.         0.\n",
            "  0.24493596 0.24493596 0.19311033 0.         0.         0.19311033\n",
            "  0.         0.         0.24493596 0.         0.         0.19311033\n",
            "  0.        ]]\n"
          ]
        }
      ]
    },
    {
      "cell_type": "code",
      "source": [
        "s_vectors"
      ],
      "metadata": {
        "colab": {
          "base_uri": "https://localhost:8080/"
        },
        "id": "0SspwTuoPaoy",
        "outputId": "bc0df917-a3ca-4dc2-e3c3-6bc227900d5d"
      },
      "execution_count": null,
      "outputs": [
        {
          "output_type": "execute_result",
          "data": {
            "text/plain": [
              "[('requirements.txt',\n",
              "  array([0.70710678, 0.        , 0.        , 0.        , 0.        ,\n",
              "         0.        , 0.        , 0.        , 0.        , 0.        ,\n",
              "         0.        , 0.        , 0.        , 0.        , 0.        ,\n",
              "         0.        , 0.        , 0.        , 0.        , 0.        ,\n",
              "         0.        , 0.        , 0.        , 0.        , 0.70710678,\n",
              "         0.        , 0.        , 0.        , 0.        , 0.        ,\n",
              "         0.        , 0.        , 0.        , 0.        , 0.        ,\n",
              "         0.        , 0.        , 0.        , 0.        , 0.        ,\n",
              "         0.        , 0.        , 0.        ])),\n",
              " ('fatma.txt',\n",
              "  array([0.        , 0.12202937, 0.15073054, 0.12202937, 0.19118258,\n",
              "         0.        , 0.19118258, 0.19118258, 0.        , 0.19118258,\n",
              "         0.        , 0.38236516, 0.12202937, 0.        , 0.        ,\n",
              "         0.12202937, 0.        , 0.        , 0.        , 0.        ,\n",
              "         0.19118258, 0.        , 0.19118258, 0.19118258, 0.        ,\n",
              "         0.        , 0.19118258, 0.        , 0.        , 0.19118258,\n",
              "         0.        , 0.        , 0.        , 0.19118258, 0.19118258,\n",
              "         0.30146109, 0.        , 0.38236516, 0.        , 0.19118258,\n",
              "         0.19118258, 0.15073054, 0.19118258])),\n",
              " ('john.txt',\n",
              "  array([0.        , 0.17671088, 0.21827309, 0.17671088, 0.        ,\n",
              "         0.21827309, 0.        , 0.        , 0.21827309, 0.        ,\n",
              "         0.        , 0.        , 0.35342175, 0.        , 0.21827309,\n",
              "         0.35342175, 0.27685174, 0.        , 0.        , 0.21827309,\n",
              "         0.        , 0.21827309, 0.        , 0.        , 0.        ,\n",
              "         0.21827309, 0.        , 0.27685174, 0.27685174, 0.        ,\n",
              "         0.        , 0.        , 0.21827309, 0.        , 0.        ,\n",
              "         0.        , 0.27685174, 0.        , 0.        , 0.        ,\n",
              "         0.        , 0.        , 0.        ])),\n",
              " ('juma.txt',\n",
              "  array([0.        , 0.15633945, 0.        , 0.15633945, 0.        ,\n",
              "         0.19311033, 0.        , 0.        , 0.19311033, 0.        ,\n",
              "         0.24493596, 0.        , 0.3126789 , 0.24493596, 0.19311033,\n",
              "         0.3126789 , 0.        , 0.24493596, 0.24493596, 0.19311033,\n",
              "         0.        , 0.19311033, 0.        , 0.        , 0.        ,\n",
              "         0.19311033, 0.        , 0.        , 0.        , 0.        ,\n",
              "         0.24493596, 0.24493596, 0.19311033, 0.        , 0.        ,\n",
              "         0.19311033, 0.        , 0.        , 0.24493596, 0.        ,\n",
              "         0.        , 0.19311033, 0.        ]))]"
            ]
          },
          "metadata": {},
          "execution_count": 9
        }
      ]
    },
    {
      "cell_type": "code",
      "source": [
        "def check_plagiarism():\n",
        "    global s_vectors\n",
        "    for student_a, text_vector_a in s_vectors:\n",
        "        new_vectors = s_vectors.copy()\n",
        "        current_index = new_vectors.index((student_a, text_vector_a))\n",
        "        del new_vectors[current_index]\n",
        "        for student_b, text_vector_b in new_vectors:\n",
        "            sim_score = similarity(text_vector_a, text_vector_b)[0][1]\n",
        "            student_pair = sorted((student_a, student_b))\n",
        "            score = (student_pair[0], student_pair[1], sim_score)\n",
        "            plagiarism_results.add(score)\n",
        "    return plagiarism_results\n"
      ],
      "metadata": {
        "id": "BdQzvW6TPbmi"
      },
      "execution_count": null,
      "outputs": []
    },
    {
      "cell_type": "code",
      "source": [
        "for data in check_plagiarism():\n",
        "    print(data)\n"
      ],
      "metadata": {
        "colab": {
          "base_uri": "https://localhost:8080/"
        },
        "id": "elyqb2OSPbqy",
        "outputId": "2d5c023d-b6dc-4cc3-f465-bca6e8d48216"
      },
      "execution_count": null,
      "outputs": [
        {
          "output_type": "stream",
          "name": "stdout",
          "text": [
            "('juma.txt', 'requirements.txt', 0.0)\n",
            "('fatma.txt', 'requirements.txt', 0.0)\n",
            "('fatma.txt', 'juma.txt', 0.20179089793739657)\n",
            "('john.txt', 'juma.txt', 0.5713243251172899)\n",
            "('john.txt', 'requirements.txt', 0.0)\n",
            "('fatma.txt', 'john.txt', 0.16228391831223246)\n"
          ]
        }
      ]
    },
    {
      "cell_type": "code",
      "source": [],
      "metadata": {
        "id": "3BOit2yZPbuU"
      },
      "execution_count": null,
      "outputs": []
    },
    {
      "cell_type": "code",
      "source": [],
      "metadata": {
        "id": "KNQIrl9LPbxN"
      },
      "execution_count": null,
      "outputs": []
    },
    {
      "cell_type": "code",
      "source": [],
      "metadata": {
        "id": "UXfrXdfHPb0K"
      },
      "execution_count": null,
      "outputs": []
    },
    {
      "cell_type": "code",
      "source": [],
      "metadata": {
        "id": "AwETQjjZPb3L"
      },
      "execution_count": null,
      "outputs": []
    },
    {
      "cell_type": "code",
      "source": [],
      "metadata": {
        "id": "-UCoOdxIPQ7E"
      },
      "execution_count": null,
      "outputs": []
    }
  ]
}